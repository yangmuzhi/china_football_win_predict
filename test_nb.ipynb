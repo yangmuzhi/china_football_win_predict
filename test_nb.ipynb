{
 "cells": [
  {
   "cell_type": "code",
   "execution_count": 19,
   "metadata": {
    "collapsed": true
   },
   "outputs": [],
   "source": [
    "from sklearn.naive_bayes import MultinomialNB, GaussianNB, CategoricalNB\n",
    "import numpy as np\n",
    "import pandas as pd \n",
    "from utils import chinawin, _label_trans"
   ]
  },
  {
   "cell_type": "code",
   "execution_count": null,
   "metadata": {},
   "outputs": [],
   "source": [
    "data = pd.read_csv('data.csv', encoding=\"gbk\")\n",
    "cw = chinawin()\n",
    "cw.process_data(data)\n",
    "X, y = cw.get_feature()\n"
   ]
  },
  {
   "cell_type": "code",
   "execution_count": 3,
   "metadata": {},
   "outputs": [
    {
     "name": "stderr",
     "output_type": "stream",
     "text": [
      "/usr/local/anaconda3/envs/py36/lib/python3.6/site-packages/sklearn/utils/validation.py:72: DataConversionWarning: A column-vector y was passed when a 1d array was expected. Please change the shape of y to (n_samples, ), for example using ravel().\n",
      "  return f(**kwargs)\n"
     ]
    },
    {
     "data": {
      "text/plain": [
       "0.5945121951219512"
      ]
     },
     "execution_count": 3,
     "metadata": {},
     "output_type": "execute_result"
    }
   ],
   "source": [
    "clf = CategoricalNB()\n",
    "\n",
    "ind = np.random.choice(len(y),int(len(y)*0.9))\n",
    "X_train = X[ind]\n",
    "y_train = y[ind]\n",
    "\n",
    "X_test = X[~ind]\n",
    "y_test = y[~ind]\n",
    "\n",
    "clf.fit(X_train, y_train)\n",
    "sum(clf.predict(X_test) == y_test.reshape(-1)) / len(y)"
   ]
  },
  {
   "cell_type": "code",
   "execution_count": 4,
   "metadata": {},
   "outputs": [
    {
     "name": "stderr",
     "output_type": "stream",
     "text": [
      "/usr/local/anaconda3/envs/py36/lib/python3.6/site-packages/sklearn/utils/validation.py:72: DataConversionWarning: A column-vector y was passed when a 1d array was expected. Please change the shape of y to (n_samples, ), for example using ravel().\n",
      "  return f(**kwargs)\n"
     ]
    },
    {
     "data": {
      "text/plain": [
       "CategoricalNB()"
      ]
     },
     "execution_count": 4,
     "metadata": {},
     "output_type": "execute_result"
    }
   ],
   "source": [
    "clf = CategoricalNB()\n",
    "\n",
    "clf.fit(X, y)\n"
   ]
  },
  {
   "cell_type": "code",
   "execution_count": 32,
   "metadata": {},
   "outputs": [
    {
     "name": "stdout",
     "output_type": "stream",
     "text": [
      "模型预测 主场对战阿曼，赢球概率: 0.8137, 平局概率: 0.014, 输球概率: 0.1723\n",
      "模型预测 主场对澳大利亚，赢球概率: 0.7208, 平局概率: 0.0248, 输球概率: 0.2544\n",
      "模型预测 客场对日本，赢球概率: 0.336, 平局概率: 0.0497, 输球概率: 0.336\n",
      "模型预测 客场对越南，赢球概率: 0.8423, 平局概率: 0.0208, 输球概率: 0.1369\n",
      "模型预测 主场对沙特，赢球概率: 0.5061, 平局概率: 0.0653, 输球概率: 0.4287\n",
      "模型预测 客场对阿曼，赢球概率: 0.494, 平局概率: 0.0244, 输球概率: 0.4816\n",
      "模型预测 国足六场比赛得分: 15分\n"
     ]
    }
   ],
   "source": [
    "# 1. 主场对战阿曼\n",
    "# 2. 主场对澳大利亚\n",
    "# 3. 客场对日本\n",
    "# 4. 客场对越南\n",
    "# 5. 主场对沙特\n",
    "# 6. 客场对阿曼\n",
    "# 四个特征分别对应'type'比赛类型, 'coach_fea'教练编号, 'is_cn_home'是否主场, 'vs_team'对战球队\n",
    "next_x = np.array([[1, 6, 1, cw.COUNTRY_SET.get('阿曼')],\n",
    "                   [1, 6, 1, cw.COUNTRY_SET.get('澳大利亚')],\n",
    "                   [1, 6, 0, cw.COUNTRY_SET.get('日本')],\n",
    "                   [1, 6, 0, cw.COUNTRY_SET.get('越南')],\n",
    "                   [1, 6, 1, cw.COUNTRY_SET.get('沙特')],\n",
    "                   [1, 6, 0, cw.COUNTRY_SET.get('阿曼')]                  \n",
    "                  ]).reshape(-1,4)\n",
    "\n",
    "res = clf.predict_proba(next_x)\n",
    "res = np.round(res, 4)\n",
    "print(\"模型预测 主场对战阿曼，赢球概率: {}, 平局概率: {}, 输球概率: {}\".format(res[0][2], res[0][1], res[0][0]))\n",
    "print(\"模型预测 主场对澳大利亚，赢球概率: {}, 平局概率: {}, 输球概率: {}\".format(res[1][2], res[1][1], res[1][0]))\n",
    "print(\"模型预测 客场对日本，赢球概率: {}, 平局概率: {}, 输球概率: {}\".format(res[2][2], res[2][1], res[2][2]))\n",
    "print(\"模型预测 客场对越南，赢球概率: {}, 平局概率: {}, 输球概率: {}\".format(res[3][2], res[3][1], res[3][0]))\n",
    "print(\"模型预测 主场对沙特，赢球概率: {}, 平局概率: {}, 输球概率: {}\".format(res[4][2], res[4][1], res[4][0]))\n",
    "print(\"模型预测 客场对阿曼，赢球概率: {}, 平局概率: {}, 输球概率: {}\".format(res[5][2], res[5][1], res[5][0]))\n",
    "def _fun(x):\n",
    "    if x==2:\n",
    "        return 3\n",
    "    elif x==1:\n",
    "        return 1\n",
    "    else:\n",
    "        return 0\n",
    "print(\"模型预测 国足六场比赛得分: {}分\".format(sum(list(map(_fun, clf.predict(next_x).reshape(-1))))))"
   ]
  },
  {
   "cell_type": "code",
   "execution_count": 28,
   "metadata": {},
   "outputs": [
    {
     "data": {
      "text/plain": [
       "[3, 3, 0, 3, 3, 3]"
      ]
     },
     "execution_count": 28,
     "metadata": {},
     "output_type": "execute_result"
    }
   ],
   "source": []
  },
  {
   "cell_type": "code",
   "execution_count": 31,
   "metadata": {},
   "outputs": [
    {
     "name": "stdout",
     "output_type": "stream",
     "text": [
      "阿曼 历史赢球率: 0.5\n",
      "阿曼 历史平局率: 0.0\n",
      "阿曼 历史输球率: 0.5\n",
      "阿曼 历史期望得分: 1.5\n",
      "澳大利亚 历史赢球率: 0.29411764705882354\n",
      "澳大利亚 历史平局率: 0.17647058823529413\n",
      "澳大利亚 历史输球率: 0.5294117647058822\n",
      "澳大利亚 历史期望得分: 1.0588235294117647\n",
      "日本 历史赢球率: 0.25\n",
      "日本 历史平局率: 0.25\n",
      "日本 历史输球率: 0.5\n",
      "日本 历史期望得分: 1.0\n",
      "越南 历史赢球率: 0.8461538461538461\n",
      "越南 历史平局率: 0.07692307692307693\n",
      "越南 历史输球率: 0.07692307692307693\n",
      "越南 历史期望得分: 2.6153846153846154\n",
      "沙特 历史赢球率: 0.08333333333333333\n",
      "沙特 历史平局率: 0.3333333333333333\n",
      "沙特 历史输球率: 0.5833333333333333\n",
      "沙特 历史期望得分: 0.5833333333333333\n"
     ]
    }
   ],
   "source": [
    "# 数据分析\n",
    "countries = ['阿曼', '澳大利亚', '日本', '越南', '沙特']\n",
    "for c in countries:\n",
    "    is_cn_win = cw.data[cw.data['vs_team']==cw.COUNTRY_SET.get(c)]['is_cn_win']\n",
    "    is_cn_eql = cw.data[cw.data['vs_team']==cw.COUNTRY_SET.get(c)]['is_cn_eql']\n",
    "    print('{} 历史赢球率: {}'.format(c, is_cn_win.mean()))\n",
    "    print('{} 历史平局率: {}'.format(c, is_cn_eql.mean()))\n",
    "    print('{} 历史输球率: {}'.format(c, 1-is_cn_win.mean()-is_cn_eql.mean()))\n",
    "    print('{} 历史期望得分: {}'.format(c, 3*is_cn_win.mean()+1*is_cn_eql.mean()))\n",
    "\n"
   ]
  },
  {
   "cell_type": "code",
   "execution_count": 37,
   "metadata": {},
   "outputs": [
    {
     "name": "stdout",
     "output_type": "stream",
     "text": [
      "主场赢球概率:  0.6203473945409429\n",
      "主场平局概率:  0.18362282878411912\n",
      "客场赢球概率:  0.30039525691699603\n",
      "客场平局概率:  0.25691699604743085\n"
     ]
    }
   ],
   "source": [
    "# 主场优势\n",
    "print(\"主场赢球概率: \",cw.data[cw.data['is_cn_home']==1]['is_cn_win'].mean())\n",
    "print(\"主场平局概率: \",cw.data[cw.data['is_cn_home']==1]['is_cn_eql'].mean())\n",
    "\n",
    "\n",
    "print(\"客场赢球概率: \",cw.data[cw.data['is_cn_home']==0]['is_cn_win'].mean())\n",
    "print(\"客场平局概率: \",cw.data[cw.data['is_cn_home']==0]['is_cn_eql'].mean())\n"
   ]
  },
  {
   "cell_type": "code",
   "execution_count": null,
   "metadata": {
    "collapsed": true
   },
   "outputs": [],
   "source": []
  },
  {
   "cell_type": "code",
   "execution_count": null,
   "metadata": {
    "collapsed": true
   },
   "outputs": [],
   "source": []
  }
 ],
 "metadata": {
  "kernelspec": {
   "display_name": "Python [conda env:py36]",
   "language": "python",
   "name": "conda-env-py36-py"
  },
  "language_info": {
   "codemirror_mode": {
    "name": "ipython",
    "version": 3
   },
   "file_extension": ".py",
   "mimetype": "text/x-python",
   "name": "python",
   "nbconvert_exporter": "python",
   "pygments_lexer": "ipython3",
   "version": "3.6.2"
  }
 },
 "nbformat": 4,
 "nbformat_minor": 2
}
